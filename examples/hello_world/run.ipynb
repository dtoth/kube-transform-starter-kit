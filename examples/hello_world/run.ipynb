{
 "cells": [
  {
   "cell_type": "code",
   "execution_count": null,
   "metadata": {},
   "outputs": [],
   "source": [
    "from kube_transform import run_pipeline\n",
    "from hello_world_pipeline import hello_world_pipeline\n",
    "import json\n"
   ]
  },
  {
   "cell_type": "code",
   "execution_count": null,
   "metadata": {},
   "outputs": [],
   "source": [
    "# Select an Environment\n",
    "CONTEXT = 'local'\n",
    "\n",
    "# Load the KT Context\n",
    "kt_context = json.load(open('../kt-contexts.json', 'r'))[CONTEXT]\n",
    "\n",
    "# Select the right kube context\n",
    "! kubectl config use-context {kt_context['kube_context']}\n",
    "\n",
    "# Build and Push the Docker Image\n",
    "! {kt_context['build_script_path']}"
   ]
  },
  {
   "cell_type": "code",
   "execution_count": null,
   "metadata": {},
   "outputs": [],
   "source": [
    "pipeline_spec = hello_world_pipeline(\n",
    "    input_directory='hello_world/raw',\n",
    "    output_directory='hello_world/processed',\n",
    ")\n",
    "run_pipeline(\n",
    "    pipeline_spec,\n",
    "    kt_context['image_path'],\n",
    "    kt_context['data_dir'],\n",
    ")"
   ]
  }
 ],
 "metadata": {
  "kernelspec": {
   "display_name": "venv",
   "language": "python",
   "name": "python3"
  },
  "language_info": {
   "codemirror_mode": {
    "name": "ipython",
    "version": 3
   },
   "file_extension": ".py",
   "mimetype": "text/x-python",
   "name": "python",
   "nbconvert_exporter": "python",
   "pygments_lexer": "ipython3",
   "version": "3.11.1"
  }
 },
 "nbformat": 4,
 "nbformat_minor": 2
}
